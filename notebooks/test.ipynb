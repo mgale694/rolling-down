{
 "cells": [
  {
   "cell_type": "code",
   "execution_count": 150,
   "metadata": {},
   "outputs": [],
   "source": [
    "import numpy as np"
   ]
  },
  {
   "cell_type": "code",
   "execution_count": 151,
   "metadata": {},
   "outputs": [
    {
     "data": {
      "text/plain": [
       "array([0.02  , 0.0325, 0.04  , 0.05  , 0.06  , 0.07  , 0.075 ])"
      ]
     },
     "execution_count": 151,
     "metadata": {},
     "output_type": "execute_result"
    }
   ],
   "source": [
    "yield_rate = np.array([0.02, 0.0325, 0.04, 0.05, 0.06, 0.07, 0.075])\n",
    "yield_rate"
   ]
  },
  {
   "cell_type": "code",
   "execution_count": 152,
   "metadata": {},
   "outputs": [
    {
     "data": {
      "text/plain": [
       "[np.float64(0.02),\n",
       " np.float64(0.045153186274509816),\n",
       " np.float64(0.055163833990936384),\n",
       " np.float64(0.08058063019173889),\n",
       " np.float64(0.10096149452131575),\n",
       " np.float64(0.1214330206873191),\n",
       " np.float64(0.10549449340670214)]"
      ]
     },
     "execution_count": 152,
     "metadata": {},
     "output_type": "execute_result"
    }
   ],
   "source": [
    "one_yr_forward_rate = [yield_rate[0]] + [(1 + yield_rate[i+1])**(i+2) / (1 + yield_rate[i])**(i+1) - 1 for i in range(len(yield_rate) - 1)]\n",
    "one_yr_forward_rate"
   ]
  },
  {
   "cell_type": "code",
   "execution_count": 153,
   "metadata": {},
   "outputs": [],
   "source": [
    "def check_forward_rate(yield_rate, one_yr_forward_rate):\n",
    "    return any(rate < forward_rate for rate, forward_rate in zip(yield_rate, one_yr_forward_rate))"
   ]
  },
  {
   "cell_type": "code",
   "execution_count": 154,
   "metadata": {},
   "outputs": [
    {
     "data": {
      "text/plain": [
       "True"
      ]
     },
     "execution_count": 154,
     "metadata": {},
     "output_type": "execute_result"
    }
   ],
   "source": [
    "check_forward_rate(yield_rate, one_yr_forward_rate)"
   ]
  },
  {
   "cell_type": "code",
   "execution_count": 155,
   "metadata": {},
   "outputs": [],
   "source": [
    "NOTIONAL_AMOUNT = 100\n",
    "MATURITY = 6\n",
    "INV_HORIZON = 6"
   ]
  },
  {
   "cell_type": "code",
   "execution_count": 156,
   "metadata": {},
   "outputs": [
    {
     "data": {
      "text/plain": [
       "array([  7.,   7.,   7.,   7.,   7., 107.])"
      ]
     },
     "execution_count": 156,
     "metadata": {},
     "output_type": "execute_result"
    }
   ],
   "source": [
    "cash_flows = np.full(MATURITY, NOTIONAL_AMOUNT * yield_rate[MATURITY-1])\n",
    "cash_flows[-1] += NOTIONAL_AMOUNT\n",
    "cash_flows"
   ]
  },
  {
   "cell_type": "code",
   "execution_count": 157,
   "metadata": {},
   "outputs": [
    {
     "data": {
      "text/plain": [
       "[np.float64(6.862745098039216),\n",
       " np.float64(6.566257643534289),\n",
       " np.float64(6.222974510696404),\n",
       " np.float64(5.758917323543174),\n",
       " np.float64(5.2308072100624),\n",
       " np.float64(71.29861794836683)]"
      ]
     },
     "execution_count": 157,
     "metadata": {},
     "output_type": "execute_result"
    }
   ],
   "source": [
    "pv_cash_flow = [cf / (1 + yield_rate[i])**(i+1) for i, cf in enumerate(cash_flows)]\n",
    "pv_cash_flow"
   ]
  },
  {
   "cell_type": "code",
   "execution_count": 158,
   "metadata": {},
   "outputs": [
    {
     "data": {
      "text/plain": [
       "np.float64(101.94031973424231)"
      ]
     },
     "execution_count": 158,
     "metadata": {},
     "output_type": "execute_result"
    }
   ],
   "source": [
    "bond_price = np.sum(pv_cash_flow)\n",
    "bond_price"
   ]
  },
  {
   "cell_type": "code",
   "execution_count": 159,
   "metadata": {},
   "outputs": [],
   "source": [
    "SELL_YEAR = 3"
   ]
  },
  {
   "cell_type": "code",
   "execution_count": 160,
   "metadata": {},
   "outputs": [],
   "source": [
    "new_cash_flows = cash_flows[SELL_YEAR-1:]"
   ]
  },
  {
   "cell_type": "code",
   "execution_count": 161,
   "metadata": {},
   "outputs": [
    {
     "data": {
      "text/plain": [
       "[np.float64(6.862745098039216),\n",
       " np.float64(6.566257643534289),\n",
       " np.float64(6.222974510696404),\n",
       " np.float64(88.02916480273136)]"
      ]
     },
     "execution_count": 161,
     "metadata": {},
     "output_type": "execute_result"
    }
   ],
   "source": [
    "new_pv_cash_flow = [cf / (1 + yield_rate[i])**(i+1) for i, cf in enumerate(new_cash_flows)]\n",
    "new_pv_cash_flow"
   ]
  },
  {
   "cell_type": "code",
   "execution_count": 162,
   "metadata": {},
   "outputs": [
    {
     "data": {
      "text/plain": [
       "np.float64(107.68114205500126)"
      ]
     },
     "execution_count": 162,
     "metadata": {},
     "output_type": "execute_result"
    }
   ],
   "source": [
    "new_bond_price = np.sum(new_pv_cash_flow)\n",
    "new_bond_price"
   ]
  },
  {
   "cell_type": "code",
   "execution_count": 163,
   "metadata": {},
   "outputs": [],
   "source": [
    "interest_flows = cash_flows[:SELL_YEAR-1]"
   ]
  },
  {
   "cell_type": "code",
   "execution_count": 164,
   "metadata": {},
   "outputs": [],
   "source": [
    "interest_flows_pv = [cf * (1 + yield_rate[i])**(i+1) for i, cf in enumerate(interest_flows[:-1])] + [interest_flows[-1]]"
   ]
  },
  {
   "cell_type": "code",
   "execution_count": 165,
   "metadata": {},
   "outputs": [
    {
     "data": {
      "text/plain": [
       "[np.float64(7.1400000000000015), np.float64(7.000000000000001)]"
      ]
     },
     "execution_count": 165,
     "metadata": {},
     "output_type": "execute_result"
    }
   ],
   "source": [
    "interest_flows_pv"
   ]
  },
  {
   "cell_type": "code",
   "execution_count": 166,
   "metadata": {},
   "outputs": [
    {
     "data": {
      "text/plain": [
       "np.float64(121.82114205500126)"
      ]
     },
     "execution_count": 166,
     "metadata": {},
     "output_type": "execute_result"
    }
   ],
   "source": [
    "total_return_amount = new_bond_price + sum(interest_flows_pv)\n",
    "total_return_amount"
   ]
  },
  {
   "cell_type": "code",
   "execution_count": 167,
   "metadata": {},
   "outputs": [
    {
     "data": {
      "text/plain": [
       "np.float64(0.1950241314976069)"
      ]
     },
     "execution_count": 167,
     "metadata": {},
     "output_type": "execute_result"
    }
   ],
   "source": [
    "total_return = total_return_amount / bond_price - 1\n",
    "total_return"
   ]
  },
  {
   "cell_type": "code",
   "execution_count": 168,
   "metadata": {},
   "outputs": [
    {
     "data": {
      "text/plain": [
       "np.float64(0.09317159288814625)"
      ]
     },
     "execution_count": 168,
     "metadata": {},
     "output_type": "execute_result"
    }
   ],
   "source": [
    "yoy_total_return = (total_return_amount / bond_price)**(1/(SELL_YEAR-1)) - 1\n",
    "yoy_total_return"
   ]
  },
  {
   "cell_type": "code",
   "execution_count": null,
   "metadata": {},
   "outputs": [],
   "source": []
  },
  {
   "cell_type": "code",
   "execution_count": null,
   "metadata": {},
   "outputs": [],
   "source": []
  }
 ],
 "metadata": {
  "kernelspec": {
   "display_name": "rolling-down",
   "language": "python",
   "name": "python3"
  },
  "language_info": {
   "codemirror_mode": {
    "name": "ipython",
    "version": 3
   },
   "file_extension": ".py",
   "mimetype": "text/x-python",
   "name": "python",
   "nbconvert_exporter": "python",
   "pygments_lexer": "ipython3",
   "version": "3.10.8"
  }
 },
 "nbformat": 4,
 "nbformat_minor": 2
}
